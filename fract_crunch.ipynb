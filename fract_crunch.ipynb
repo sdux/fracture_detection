{
 "cells": [
  {
   "cell_type": "markdown",
   "metadata": {},
   "source": [
    "### Multivariate Linear Regression\n",
    "#### Published 2010, 2012. \n"
   ]
  },
  {
   "cell_type": "code",
   "execution_count": 9,
   "metadata": {
    "collapsed": true
   },
   "outputs": [],
   "source": [
    "# Imports\n",
    "%matplotlib inline\n",
    "import numpy as np\n",
    "import matplotlib.pyplot as plt\n",
    "import pandas as pd\n"
   ]
  },
  {
   "cell_type": "code",
   "execution_count": null,
   "metadata": {
    "collapsed": false
   },
   "outputs": [],
   "source": []
  },
  {
   "cell_type": "code",
   "execution_count": 48,
   "metadata": {
    "collapsed": false
   },
   "outputs": [],
   "source": [
    "#Load in data sets\n",
    "\n",
    "outline_points = np.loadtxt(r'C:\\PyLearn\\frac_data\\survey_corners', dtype='int')\n",
    "trc_data = np.loadtxt(r'C:\\PyLearn\\frac_data\\trc_data_py.txt', dtype='int')\n",
    "amp_data = np.loadtxt(r'C:\\PyLearn\\frac_data\\amp_data_cap_py')\n",
    "\n",
    "#outline_points = np.loadtxt(r'C:\\Users\\Duxvader\\dux_python\\fracture_detection\\survey_corners', dtype='int')\n",
    "#trc_data = np.loadtxt(r'C:\\Users\\Duxvader\\dux_python\\fracture_detection\\trc_data_py', dtype='int')\n",
    "#amp_data = np.loadtxt(r'C:\\Users\\Duxvader\\dux_python\\fracture_detection\\amp_data_cap_py')\n",
    "#print(outline_points)\n",
    "#plt.plot(outline_points[:,0], outline_points[:,1])\n",
    "#plt.show(); #Visual QC"
   ]
  },
  {
   "cell_type": "code",
   "execution_count": 51,
   "metadata": {
    "collapsed": false
   },
   "outputs": [
    {
     "name": "stdout",
     "output_type": "stream",
     "text": [
      "[[ 105786      80      46 ...,       1  588210 5485001]\n",
      " [ 105788      80     226 ...,       2  588152 5484945]\n",
      " [ 105790     239     226 ...,       3  588095 5484890]\n",
      " ..., \n",
      " [  68607     159     226 ...,     984  588844 5477606]\n",
      " [  68609     319     226 ...,     985  588786 5477550]\n",
      " [  68611     479     226 ...,     986  588728 5477495]]\n"
     ]
    }
   ],
   "source": [
    "print(trc_data)\n"
   ]
  },
  {
   "cell_type": "code",
   "execution_count": null,
   "metadata": {
    "collapsed": true
   },
   "outputs": [],
   "source": []
  },
  {
   "cell_type": "code",
   "execution_count": null,
   "metadata": {
    "collapsed": false
   },
   "outputs": [],
   "source": []
  },
  {
   "cell_type": "code",
   "execution_count": null,
   "metadata": {
    "collapsed": false
   },
   "outputs": [],
   "source": []
  },
  {
   "cell_type": "code",
   "execution_count": null,
   "metadata": {
    "collapsed": false
   },
   "outputs": [],
   "source": []
  },
  {
   "cell_type": "code",
   "execution_count": null,
   "metadata": {
    "collapsed": true
   },
   "outputs": [],
   "source": []
  }
 ],
 "metadata": {
  "kernelspec": {
   "display_name": "Python 3",
   "language": "python",
   "name": "python3"
  },
  "language_info": {
   "codemirror_mode": {
    "name": "ipython",
    "version": 3
   },
   "file_extension": ".py",
   "mimetype": "text/x-python",
   "name": "python",
   "nbconvert_exporter": "python",
   "pygments_lexer": "ipython3",
   "version": "3.5.1"
  }
 },
 "nbformat": 4,
 "nbformat_minor": 0
}
