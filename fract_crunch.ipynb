{
 "cells": [
  {
   "cell_type": "markdown",
   "metadata": {},
   "source": [
    "### Multivariate Linear Regression\n",
    "#### Published 2010, 2012. \n"
   ]
  },
  {
   "cell_type": "code",
   "execution_count": 2,
   "metadata": {
    "collapsed": true
   },
   "outputs": [],
   "source": [
    "# Imports\n",
    "import numpy as np\n",
    "import matplotlib.pyplot as plt\n",
    "import pandas as pd\n"
   ]
  },
  {
   "cell_type": "code",
   "execution_count": 93,
   "metadata": {
    "collapsed": false
   },
   "outputs": [
    {
     "name": "stdout",
     "output_type": "stream",
     "text": [
      "    5.8834800e+05  5.4851170e+06\n",
      "0        589814.0      5483606.0\n",
      "1        590822.0      5484201.0\n",
      "2        591624.0      5483515.0\n",
      "3        590959.0      5482805.0\n",
      "4        592586.0      5481088.0\n",
      "5        588348.0      5477196.0\n",
      "6        586859.0      5478661.0\n",
      "7        588256.0      5480172.0\n",
      "8        586790.0      5482072.0\n",
      "9        587386.0      5482759.0\n",
      "10       586836.0      5483652.0\n",
      "11       588348.0      5485117.0\n"
     ]
    }
   ],
   "source": [
    "f_temp = pd.read_csv('H:\\Personal\\AVOA\\AVOA_crunch_Alpha_1.0\\Python_reWrite\\survey_corners',delimiter=r\"\\s+\")\n",
    "print(f_temp)"
   ]
  },
  {
   "cell_type": "code",
   "execution_count": 96,
   "metadata": {
    "collapsed": false
   },
   "outputs": [
    {
     "name": "stdout",
     "output_type": "stream",
     "text": [
      "[[  588348.  5485117.]\n",
      " [  589814.  5483606.]\n",
      " [  590822.  5484201.]\n",
      " [  591624.  5483515.]\n",
      " [  590959.  5482805.]\n",
      " [  592586.  5481088.]\n",
      " [  588348.  5477196.]\n",
      " [  586859.  5478661.]\n",
      " [  588256.  5480172.]\n",
      " [  586790.  5482072.]\n",
      " [  587386.  5482759.]\n",
      " [  586836.  5483652.]\n",
      " [  588348.  5485117.]]\n"
     ]
    }
   ],
   "source": [
    "a_temp = np.loadtxt('H:\\Personal\\AVOA\\AVOA_crunch_Alpha_1.0\\Python_reWrite\\survey_corners')\n",
    "print(a_temp)"
   ]
  },
  {
   "cell_type": "code",
   "execution_count": 71,
   "metadata": {
    "collapsed": false
   },
   "outputs": [
    {
     "ename": "ValueError",
     "evalue": "could not convert string to float: '   5.8834800e+05   5.4851170e+06\\n   5.8981400e+05   5.4836060e+06\\n   5.9082200e+05   5.4842010e+06\\n   5.9162400e+05   5.4835150e+06\\n   5.9095900e+05   5.4828050e+06\\n   5.9258600e+05   5.4810880e+06\\n   5.8834800e+05   5.4771960e+06\\n   5.8685900e+05   5.4786610e+06\\n   5.8825600e+05   5.4801720e+06\\n   5.8679000e+05   5.4820720e+06\\n   5.8738600e+05   5.4827590e+06\\n   5.8683600e+05   5.4836520e+06\\n   5.8834800e+05   5.4851170e+06\\n'",
     "output_type": "error",
     "traceback": [
      "\u001b[1;31m---------------------------------------------------------------------------\u001b[0m",
      "\u001b[1;31mValueError\u001b[0m                                Traceback (most recent call last)",
      "\u001b[1;32m<ipython-input-71-5564448b435e>\u001b[0m in \u001b[0;36m<module>\u001b[1;34m()\u001b[0m\n\u001b[0;32m      4\u001b[0m \u001b[0msurvey_corners\u001b[0m \u001b[1;33m=\u001b[0m \u001b[0msurvey_corners\u001b[0m\u001b[1;33m.\u001b[0m\u001b[0mreplace\u001b[0m\u001b[1;33m(\u001b[0m\u001b[1;34m\"\\t\"\u001b[0m\u001b[1;33m,\u001b[0m \u001b[1;34m\"\"\u001b[0m\u001b[1;33m)\u001b[0m\u001b[1;33m\u001b[0m\u001b[0m\n\u001b[0;32m      5\u001b[0m \u001b[0msurvey_corners\u001b[0m \u001b[1;33m=\u001b[0m \u001b[0mnp\u001b[0m\u001b[1;33m.\u001b[0m\u001b[0marray\u001b[0m\u001b[1;33m(\u001b[0m\u001b[0msurvey_corners\u001b[0m\u001b[1;33m)\u001b[0m\u001b[1;33m\u001b[0m\u001b[0m\n\u001b[1;32m----> 6\u001b[1;33m \u001b[0msurvey_corners\u001b[0m \u001b[1;33m=\u001b[0m \u001b[0msurvey_corners\u001b[0m\u001b[1;33m.\u001b[0m\u001b[0mastype\u001b[0m\u001b[1;33m(\u001b[0m\u001b[0mfloat\u001b[0m\u001b[1;33m)\u001b[0m\u001b[1;33m\u001b[0m\u001b[0m\n\u001b[0m\u001b[0;32m      7\u001b[0m \u001b[1;31m#replace(a, old, new[, count])  For each element in a, return a copy of the string with all occurrences of substring old replaced by\u001b[0m\u001b[1;33m\u001b[0m\u001b[1;33m\u001b[0m\u001b[0m\n\u001b[0;32m      8\u001b[0m \u001b[1;31m#survey_corners.replace('b', \"\")\u001b[0m\u001b[1;33m\u001b[0m\u001b[1;33m\u001b[0m\u001b[0m\n",
      "\u001b[1;31mValueError\u001b[0m: could not convert string to float: '   5.8834800e+05   5.4851170e+06\\n   5.8981400e+05   5.4836060e+06\\n   5.9082200e+05   5.4842010e+06\\n   5.9162400e+05   5.4835150e+06\\n   5.9095900e+05   5.4828050e+06\\n   5.9258600e+05   5.4810880e+06\\n   5.8834800e+05   5.4771960e+06\\n   5.8685900e+05   5.4786610e+06\\n   5.8825600e+05   5.4801720e+06\\n   5.8679000e+05   5.4820720e+06\\n   5.8738600e+05   5.4827590e+06\\n   5.8683600e+05   5.4836520e+06\\n   5.8834800e+05   5.4851170e+06\\n'"
     ]
    }
   ],
   "source": [
    "f_temp = open('H:\\Personal\\AVOA\\AVOA_crunch_Alpha_1.0\\Python_reWrite\\survey_corners', 'r')\n",
    "survey_corners = f_temp.read(); f_temp.close()\n",
    "\n",
    "survey_corners = survey_corners.replace(\"\\t\", \"\")\n",
    "survey_corners = np.array(survey_corners)\n",
    "survey_corners = survey_corners.astype(float)\n",
    "#replace(a, old, new[, count])\tFor each element in a, return a copy of the string with all occurrences of substring old replaced by\n",
    "#survey_corners.replace('b', \"\")"
   ]
  },
  {
   "cell_type": "code",
   "execution_count": null,
   "metadata": {
    "collapsed": true
   },
   "outputs": [],
   "source": []
  },
  {
   "cell_type": "code",
   "execution_count": 38,
   "metadata": {
    "collapsed": false
   },
   "outputs": [],
   "source": [
    "#survey_corners=survey_corners.astype(np.float)"
   ]
  },
  {
   "cell_type": "code",
   "execution_count": 70,
   "metadata": {
    "collapsed": false
   },
   "outputs": [
    {
     "name": "stdout",
     "output_type": "stream",
     "text": [
      "   5.8834800e+05   5.4851170e+06\n",
      "   5.8981400e+05   5.4836060e+06\n",
      "   5.9082200e+05   5.4842010e+06\n",
      "   5.9162400e+05   5.4835150e+06\n",
      "   5.9095900e+05   5.4828050e+06\n",
      "   5.9258600e+05   5.4810880e+06\n",
      "   5.8834800e+05   5.4771960e+06\n",
      "   5.8685900e+05   5.4786610e+06\n",
      "   5.8825600e+05   5.4801720e+06\n",
      "   5.8679000e+05   5.4820720e+06\n",
      "   5.8738600e+05   5.4827590e+06\n",
      "   5.8683600e+05   5.4836520e+06\n",
      "   5.8834800e+05   5.4851170e+06\n",
      "\n"
     ]
    }
   ],
   "source": [
    "print(survey_corners)"
   ]
  },
  {
   "cell_type": "code",
   "execution_count": 16,
   "metadata": {
    "collapsed": false
   },
   "outputs": [
    {
     "data": {
      "text/plain": [
       "array([[  588348.,  5485117.],\n",
       "       [  589814.,  5483606.],\n",
       "       [  590822.,  5484201.],\n",
       "       [  591624.,  5483515.],\n",
       "       [  590959.,  5482805.],\n",
       "       [  592586.,  5481088.],\n",
       "       [  588348.,  5477196.],\n",
       "       [  586859.,  5478661.],\n",
       "       [  588256.,  5480172.],\n",
       "       [  586790.,  5482072.],\n",
       "       [  587386.,  5482759.],\n",
       "       [  586836.,  5483652.],\n",
       "       [  588348.,  5485117.]])"
      ]
     },
     "execution_count": 16,
     "metadata": {},
     "output_type": "execute_result"
    }
   ],
   "source": [
    "survey_corners"
   ]
  },
  {
   "cell_type": "code",
   "execution_count": null,
   "metadata": {
    "collapsed": true
   },
   "outputs": [],
   "source": []
  }
 ],
 "metadata": {
  "kernelspec": {
   "display_name": "Python 3",
   "language": "python",
   "name": "python3"
  },
  "language_info": {
   "codemirror_mode": {
    "name": "ipython",
    "version": 3
   },
   "file_extension": ".py",
   "mimetype": "text/x-python",
   "name": "python",
   "nbconvert_exporter": "python",
   "pygments_lexer": "ipython3",
   "version": "3.5.1"
  }
 },
 "nbformat": 4,
 "nbformat_minor": 0
}
